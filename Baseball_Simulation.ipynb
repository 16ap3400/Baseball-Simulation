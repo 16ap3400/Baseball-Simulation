{
  "nbformat": 4,
  "nbformat_minor": 0,
  "metadata": {
    "colab": {
      "name": "Baseball Simulation.ipynb",
      "provenance": [],
      "toc_visible": true
    },
    "kernelspec": {
      "name": "python3",
      "display_name": "Python 3"
    }
  },
  "cells": [
    {
      "cell_type": "markdown",
      "metadata": {
        "id": "Oil60OBoPE5w"
      },
      "source": [
        "# Theory of Predictive Modeling: Homework 6\n",
        "\n",
        "Submitted by: Alex Peterson\n",
        "\n",
        "---"
      ]
    },
    {
      "cell_type": "markdown",
      "metadata": {
        "id": "UXF8_jJhUxns"
      },
      "source": [
        "---\n",
        "\n",
        "## Problem 4\n",
        "\n",
        "Prior to the 2018 season, the Seattle Mariners acquired second baseman Dee Gordon. The Mariners already had an all-star second baseman, Robinson Cano, so they decided to have Dee Gordon play center field for much of the year. As a result, their young outfielder, Ben Gamel, was forced to sit on the bench for most of the year, and he was even sent down to the minor leagues for parts of the season. According to the defensive runs saved statistic, which is a measurement of a player's defensive ability, Ben Gamel was a better outfield defender in 2018 than Dee Gordon, which isnt surprising since Dee Gordon is a second baseman. Thus, the only good reason to play Dee Gordon in outfield rather than Ben Gamel is if the offense is better with Dee than it is with Ben. In this exercise, we will use Markov chains to simulate a season of hitting for a lineup of nine players. Then we will use this simulation to compare the Mariners offense with Gamel versus with Gordon to see which lineup is better.\n"
      ]
    },
    {
      "cell_type": "markdown",
      "metadata": {
        "id": "NGEgJ92-U9YS"
      },
      "source": [
        "A. The file GordonGamel.csv contains 4 columns. The first is just the play number from the 2018 season, so if it's 1 that means that it was the first play of 2018. This column can essentially be ignored. The second column contains either Gordon or Gamel and indicates who was batting. The third contains the baserunner/outs state of the plate appearance. The first three characters signify if there is a runner on first, second, or third base. A \"0\" means no one is on that base, and a \"1\" means someone is on that base. The last character represents the number of outs. For example, 000 0 means no one on base and no one out, 000 1 means no one on base, 1 out, and 010 2 means runner on second and two outs. Finally, the fourth column gives the baserunner/outs state after the at bat. Write a function that reads this file into Python (or R). Then use the data to create transition matrices for both Ben Gamel and Dee Gordon. Make the rows represent starting state, and the columns end state. There should be 24 rows and 25 columns because the 25th column is the state 3 which means three outs. Return a tuple containing the Gordon matrix first followed by the Gamel matrix. (Hint: Initialize 24x25 numpy arrays of all zeros for each batter. Then, every time the batter transitions from state $i$ to state $j$ in the data file, add $1$ to the $(i, j)^{th}$ entry of the array. Then simply normalize each row so that they sum up to $1$.)"
      ]
    },
    {
      "cell_type": "markdown",
      "metadata": {
        "id": "BKEA1AVR59BB"
      },
      "source": [
        "**Load data**"
      ]
    },
    {
      "cell_type": "code",
      "metadata": {
        "id": "EgGde-0oVVoz"
      },
      "source": [
        "import pandas as pd\n",
        "data = pd.read_csv(\"GordonGamel.csv\")"
      ],
      "execution_count": null,
      "outputs": []
    },
    {
      "cell_type": "code",
      "metadata": {
        "id": "0HsRvPEG61MM",
        "colab": {
          "base_uri": "https://localhost:8080/",
          "height": 493
        },
        "outputId": "b79e80e9-0e0f-46c1-88a0-c819a0f97e22"
      },
      "source": [
        "# Seperate into gordan and gamel\n",
        "gordan = data.loc[data['batter'] == 'Gordon']\n",
        "gamel = data.loc[data['batter'] == 'Gamel']\n",
        "print(gordan)\n",
        "print(gamel)"
      ],
      "execution_count": null,
      "outputs": [
        {
          "output_type": "stream",
          "text": [
            "     Unnamed: 0  batter  STATE NEW.STATE\n",
            "0          3398  Gordon  000 0     100 0\n",
            "1          3414  Gordon  100 2         3\n",
            "2          3442  Gordon  000 0     000 1\n",
            "3          3461  Gordon  010 1     001 2\n",
            "5          3479  Gordon  000 0     000 1\n",
            "..          ...     ...    ...       ...\n",
            "884      179479  Gordon  100 1     000 2\n",
            "885      179480  Gordon  000 2         3\n",
            "886      179495  Gordon  000 2         3\n",
            "887      179518  Gordon  000 0     000 1\n",
            "889      179542  Gordon  100 0     100 1\n",
            "\n",
            "[592 rows x 4 columns]\n",
            "     Unnamed: 0 batter  STATE NEW.STATE\n",
            "4          3478  Gamel  000 2         3\n",
            "6          3491  Gamel  000 0     000 1\n",
            "8          3509  Gamel  000 0     000 1\n",
            "10         3524  Gamel  000 1     000 2\n",
            "12         3541  Gamel  000 1     000 2\n",
            "..          ...    ...    ...       ...\n",
            "875      179410  Gamel  000 0     100 0\n",
            "877      179424  Gamel  000 1     010 1\n",
            "879      179439  Gamel  000 0     000 1\n",
            "881      179455  Gamel  000 1     000 2\n",
            "888      179541  Gamel  000 0     100 0\n",
            "\n",
            "[298 rows x 4 columns]\n"
          ],
          "name": "stdout"
        }
      ]
    },
    {
      "cell_type": "code",
      "metadata": {
        "id": "kZXn1NDz7q9z",
        "colab": {
          "base_uri": "https://localhost:8080/",
          "height": 476
        },
        "outputId": "36856e5c-7914-4d55-9336-ace36191a6ec"
      },
      "source": [
        "# create transition matrices to be 24X25\n",
        "import numpy as np\n",
        "tGordonRows = ['000 0', '000 1', '000 2', '001 0', '001 1', '001 2', '010 0', '010 1', '010 2', '011 0', '011 1', '011 2', '100 0','100 1','100 2','101 0','101 1','101 2','110 0','110 1','110 2', '111 0','111 1','111 2']\n",
        "tGordonCols = ['000 0', '000 1', '000 2', '001 0', '001 1', '001 2', '010 0', '010 1', '010 2', '011 0', '011 1', '011 2', '100 0','100 1','100 2','101 0','101 1','101 2','110 0','110 1','110 2', '111 0','111 1','111 2', '3']\n",
        "\n",
        "z = [0] * 24\n",
        "\n",
        "tGordonTemp = {\n",
        "    '000 0' : pd.Series(z, index = tGordonRows), \n",
        "    '000 1' : pd.Series(z, index = tGordonRows),\n",
        "    '000 2' : pd.Series(z, index = tGordonRows), \n",
        "    '001 0' : pd.Series(z, index = tGordonRows), \n",
        "    '001 1' : pd.Series(z, index = tGordonRows), \n",
        "    '001 2' : pd.Series(z, index = tGordonRows), \n",
        "    '010 0' : pd.Series(z, index = tGordonRows), \n",
        "    '010 1' : pd.Series(z, index = tGordonRows), \n",
        "    '010 2' : pd.Series(z, index = tGordonRows), \n",
        "    '011 0' : pd.Series(z, index = tGordonRows), \n",
        "    '011 1' : pd.Series(z, index = tGordonRows), \n",
        "    '011 2' : pd.Series(z, index = tGordonRows), \n",
        "    '100 0' : pd.Series(z, index = tGordonRows),\n",
        "    '100 1' : pd.Series(z, index = tGordonRows),\n",
        "    '100 2' : pd.Series(z, index = tGordonRows),\n",
        "    '101 0' : pd.Series(z, index = tGordonRows),\n",
        "    '101 1' : pd.Series(z, index = tGordonRows),\n",
        "    '101 2' : pd.Series(z, index = tGordonRows),\n",
        "    '110 0' : pd.Series(z, index = tGordonRows),\n",
        "    '110 1' : pd.Series(z, index = tGordonRows),\n",
        "    '110 2' : pd.Series(z, index = tGordonRows), \n",
        "    '111 0' : pd.Series(z, index = tGordonRows),\n",
        "    '111 1' : pd.Series(z, index = tGordonRows),\n",
        "    '111 2' : pd.Series(z, index = tGordonRows),\n",
        "    '3' : pd.Series(z, index = tGordonRows)\n",
        "}\n",
        "\n",
        "tGordon = pd.DataFrame(tGordonTemp)\n",
        "tGamel = pd.DataFrame(tGordonTemp)\n",
        "tMatrices = [tGordon, tGamel]\n",
        "print(tGordon)\n"
      ],
      "execution_count": null,
      "outputs": [
        {
          "output_type": "stream",
          "text": [
            "       000 0  000 1  000 2  001 0  001 1  ...  110 2  111 0  111 1  111 2  3\n",
            "000 0      0      0      0      0      0  ...      0      0      0      0  0\n",
            "000 1      0      0      0      0      0  ...      0      0      0      0  0\n",
            "000 2      0      0      0      0      0  ...      0      0      0      0  0\n",
            "001 0      0      0      0      0      0  ...      0      0      0      0  0\n",
            "001 1      0      0      0      0      0  ...      0      0      0      0  0\n",
            "001 2      0      0      0      0      0  ...      0      0      0      0  0\n",
            "010 0      0      0      0      0      0  ...      0      0      0      0  0\n",
            "010 1      0      0      0      0      0  ...      0      0      0      0  0\n",
            "010 2      0      0      0      0      0  ...      0      0      0      0  0\n",
            "011 0      0      0      0      0      0  ...      0      0      0      0  0\n",
            "011 1      0      0      0      0      0  ...      0      0      0      0  0\n",
            "011 2      0      0      0      0      0  ...      0      0      0      0  0\n",
            "100 0      0      0      0      0      0  ...      0      0      0      0  0\n",
            "100 1      0      0      0      0      0  ...      0      0      0      0  0\n",
            "100 2      0      0      0      0      0  ...      0      0      0      0  0\n",
            "101 0      0      0      0      0      0  ...      0      0      0      0  0\n",
            "101 1      0      0      0      0      0  ...      0      0      0      0  0\n",
            "101 2      0      0      0      0      0  ...      0      0      0      0  0\n",
            "110 0      0      0      0      0      0  ...      0      0      0      0  0\n",
            "110 1      0      0      0      0      0  ...      0      0      0      0  0\n",
            "110 2      0      0      0      0      0  ...      0      0      0      0  0\n",
            "111 0      0      0      0      0      0  ...      0      0      0      0  0\n",
            "111 1      0      0      0      0      0  ...      0      0      0      0  0\n",
            "111 2      0      0      0      0      0  ...      0      0      0      0  0\n",
            "\n",
            "[24 rows x 25 columns]\n"
          ],
          "name": "stdout"
        }
      ]
    },
    {
      "cell_type": "code",
      "metadata": {
        "id": "6ve2doCDgBXY",
        "colab": {
          "base_uri": "https://localhost:8080/",
          "height": 938
        },
        "outputId": "68c277d2-40d8-4ad4-9cb3-873de5eade85"
      },
      "source": [
        "# Place 1's into matrices\n",
        "for i in range(data.shape[0]):\n",
        "  if data['batter'].iloc[i] == 'Gordon':\n",
        "    tMatrices[0][data['NEW.STATE'][i]].loc[data['STATE'].iloc[i]] += 1\n",
        "  elif data['batter'].iloc[i] == 'Gamel':\n",
        "    tMatrices[1][data['NEW.STATE'][i]].loc[data['STATE'].iloc[i]] += 1\n",
        "\n",
        "print(tMatrices)"
      ],
      "execution_count": null,
      "outputs": [
        {
          "output_type": "stream",
          "text": [
            "[       000 0  000 1  000 2  001 0  001 1  ...  110 2  111 0  111 1  111 2   3\n",
            "000 0      1    135      0      4      0  ...      0      0      0      0   0\n",
            "000 1      0      0     63      0      1  ...      0      0      0      0   0\n",
            "000 2      0      0      0      0      0  ...      0      0      0      0  57\n",
            "001 0      0      0      0      0      0  ...      0      0      0      0   0\n",
            "001 1      0      1      2      0      0  ...      0      0      0      0   0\n",
            "001 2      0      0      0      0      0  ...      0      0      0      0   2\n",
            "010 0      1      0      0      0      5  ...      0      0      0      0   0\n",
            "010 1      0      0      0      0      0  ...      0      0      0      0   0\n",
            "010 2      0      0      0      0      0  ...      0      0      0      0  14\n",
            "011 0      0      0      0      0      0  ...      0      0      0      0   0\n",
            "011 1      0      0      0      0      0  ...      0      0      0      0   0\n",
            "011 2      0      0      0      0      0  ...      0      0      0      0   2\n",
            "100 0      0      0      0      0      0  ...      0      0      0      0   0\n",
            "100 1      0      1      1      0      0  ...      0      0      0      0   3\n",
            "100 2      0      0      0      0      0  ...      9      0      0      0  24\n",
            "101 0      0      0      0      0      0  ...      0      0      0      0   0\n",
            "101 1      0      0      0      0      0  ...      1      0      0      0   0\n",
            "101 2      0      0      0      0      0  ...      0      0      0      0   5\n",
            "110 0      0      0      0      0      0  ...      0      2      0      0   0\n",
            "110 1      0      0      0      0      0  ...      3      0      0      0   2\n",
            "110 2      0      0      0      0      0  ...      0      0      0      2   7\n",
            "111 0      0      0      0      0      0  ...      0      0      0      0   0\n",
            "111 1      0      0      0      0      0  ...      1      0      0      1   5\n",
            "111 2      0      0      0      0      0  ...      0      0      0      0   5\n",
            "\n",
            "[24 rows x 25 columns],        000 0  000 1  000 2  001 0  001 1  ...  110 2  111 0  111 1  111 2   3\n",
            "000 0      1     47      0      3      0  ...      0      0      0      0   0\n",
            "000 1      0      0     39      0      0  ...      0      0      0      0   0\n",
            "000 2      0      0      0      0      0  ...      0      0      0      0  34\n",
            "001 0      0      0      0      0      0  ...      0      0      0      0   0\n",
            "001 1      0      0      1      0      0  ...      0      0      0      0   0\n",
            "001 2      0      0      0      0      0  ...      0      0      0      0   1\n",
            "010 0      0      0      0      0      2  ...      0      0      0      0   0\n",
            "010 1      0      0      0      0      0  ...      0      0      0      0   0\n",
            "010 2      0      0      0      0      0  ...      1      0      0      0   3\n",
            "011 0      0      0      0      0      0  ...      0      0      0      0   0\n",
            "011 1      0      0      0      0      0  ...      0      0      1      0   0\n",
            "011 2      0      0      0      0      0  ...      0      0      0      1   2\n",
            "100 0      0      0      2      0      0  ...      0      0      0      0   0\n",
            "100 1      0      0      0      0      0  ...      0      0      0      0   2\n",
            "100 2      0      0      0      0      0  ...      6      0      0      0  13\n",
            "101 0      0      0      0      0      0  ...      0      1      0      0   0\n",
            "101 1      0      0      0      0      0  ...      0      0      0      0   0\n",
            "101 2      0      0      0      0      0  ...      0      0      0      1   5\n",
            "110 0      0      0      0      0      0  ...      0      0      0      0   0\n",
            "110 1      0      0      0      0      0  ...      3      0      4      0   2\n",
            "110 2      0      0      0      0      0  ...      2      0      0      0   4\n",
            "111 0      0      0      0      0      0  ...      0      0      0      0   0\n",
            "111 1      0      0      0      0      0  ...      0      0      1      0   0\n",
            "111 2      0      0      0      0      0  ...      0      0      0      1   2\n",
            "\n",
            "[24 rows x 25 columns]]\n"
          ],
          "name": "stdout"
        }
      ]
    },
    {
      "cell_type": "code",
      "metadata": {
        "id": "3HSrGD_TPhau",
        "colab": {
          "base_uri": "https://localhost:8080/",
          "height": 938
        },
        "outputId": "e49f7095-2820-4f13-a43a-23f0a38e4e7e"
      },
      "source": [
        "# Normalize each row by dividng each by 25, the row length\n",
        "for i in range(tMatrices[0].shape[0]):\n",
        "  tMatrices[0].iloc[i] = (tMatrices[0].iloc[i]/np.sum(tMatrices[0].iloc[i]))\n",
        "  tMatrices[1].iloc[i] = (tMatrices[1].iloc[i]/np.sum(tMatrices[1].iloc[i]))\n",
        "print(tMatrices)"
      ],
      "execution_count": null,
      "outputs": [
        {
          "output_type": "stream",
          "text": [
            "[          000 0     000 1     000 2     001 0  ...  111 0  111 1  111 2         3\n",
            "000 0  0.004902  0.661765  0.000000  0.019608  ...    0.0    0.0  0.000  0.000000\n",
            "000 1  0.000000  0.000000  0.750000  0.000000  ...    0.0    0.0  0.000  0.000000\n",
            "000 2  0.000000  0.000000  0.000000  0.000000  ...    0.0    0.0  0.000  0.712500\n",
            "001 0       NaN       NaN       NaN       NaN  ...    NaN    NaN    NaN       NaN\n",
            "001 1  0.000000  0.200000  0.400000  0.000000  ...    0.0    0.0  0.000  0.000000\n",
            "001 2  0.000000  0.000000  0.000000  0.000000  ...    0.0    0.0  0.000  0.666667\n",
            "010 0  0.090909  0.000000  0.000000  0.000000  ...    0.0    0.0  0.000  0.000000\n",
            "010 1  0.000000  0.000000  0.000000  0.000000  ...    0.0    0.0  0.000  0.000000\n",
            "010 2  0.000000  0.000000  0.000000  0.000000  ...    0.0    0.0  0.000  0.736842\n",
            "011 0  0.000000  0.000000  0.000000  0.000000  ...    0.0    0.0  0.000  0.000000\n",
            "011 1  0.000000  0.000000  0.000000  0.000000  ...    0.0    0.0  0.000  0.000000\n",
            "011 2  0.000000  0.000000  0.000000  0.000000  ...    0.0    0.0  0.000  0.500000\n",
            "100 0  0.000000  0.000000  0.000000  0.000000  ...    0.0    0.0  0.000  0.000000\n",
            "100 1  0.000000  0.027778  0.027778  0.000000  ...    0.0    0.0  0.000  0.083333\n",
            "100 2  0.000000  0.000000  0.000000  0.000000  ...    0.0    0.0  0.000  0.666667\n",
            "101 0  0.000000  0.000000  0.000000  0.000000  ...    0.0    0.0  0.000  0.000000\n",
            "101 1  0.000000  0.000000  0.000000  0.000000  ...    0.0    0.0  0.000  0.000000\n",
            "101 2  0.000000  0.000000  0.000000  0.000000  ...    0.0    0.0  0.000  1.000000\n",
            "110 0  0.000000  0.000000  0.000000  0.000000  ...    0.4    0.0  0.000  0.000000\n",
            "110 1  0.000000  0.000000  0.000000  0.000000  ...    0.0    0.0  0.000  0.222222\n",
            "110 2  0.000000  0.000000  0.000000  0.000000  ...    0.0    0.0  0.200  0.700000\n",
            "111 0  0.000000  0.000000  0.000000  0.000000  ...    0.0    0.0  0.000  0.000000\n",
            "111 1  0.000000  0.000000  0.000000  0.000000  ...    0.0    0.0  0.125  0.625000\n",
            "111 2  0.000000  0.000000  0.000000  0.000000  ...    0.0    0.0  0.000  0.833333\n",
            "\n",
            "[24 rows x 25 columns],           000 0     000 1     000 2  ...     111 1     111 2         3\n",
            "000 0  0.012195  0.573171  0.000000  ...  0.000000  0.000000  0.000000\n",
            "000 1  0.000000  0.000000  0.722222  ...  0.000000  0.000000  0.000000\n",
            "000 2  0.000000  0.000000  0.000000  ...  0.000000  0.000000  0.723404\n",
            "001 0       NaN       NaN       NaN  ...       NaN       NaN       NaN\n",
            "001 1  0.000000  0.000000  0.500000  ...  0.000000  0.000000  0.000000\n",
            "001 2  0.000000  0.000000  0.000000  ...  0.000000  0.000000  0.500000\n",
            "010 0  0.000000  0.000000  0.000000  ...  0.000000  0.000000  0.000000\n",
            "010 1  0.000000  0.000000  0.000000  ...  0.000000  0.000000  0.000000\n",
            "010 2  0.000000  0.000000  0.000000  ...  0.000000  0.000000  0.600000\n",
            "011 0       NaN       NaN       NaN  ...       NaN       NaN       NaN\n",
            "011 1  0.000000  0.000000  0.000000  ...  0.333333  0.000000  0.000000\n",
            "011 2  0.000000  0.000000  0.000000  ...  0.000000  0.333333  0.666667\n",
            "100 0  0.000000  0.000000  0.181818  ...  0.000000  0.000000  0.000000\n",
            "100 1  0.000000  0.000000  0.000000  ...  0.000000  0.000000  0.086957\n",
            "100 2  0.000000  0.000000  0.000000  ...  0.000000  0.000000  0.650000\n",
            "101 0  0.000000  0.000000  0.000000  ...  0.000000  0.000000  0.000000\n",
            "101 1  0.000000  0.000000  0.000000  ...  0.000000  0.000000  0.000000\n",
            "101 2  0.000000  0.000000  0.000000  ...  0.000000  0.166667  0.833333\n",
            "110 0  0.000000  0.000000  0.000000  ...  0.000000  0.000000  0.000000\n",
            "110 1  0.000000  0.000000  0.000000  ...  0.333333  0.000000  0.166667\n",
            "110 2  0.000000  0.000000  0.000000  ...  0.000000  0.000000  0.500000\n",
            "111 0       NaN       NaN       NaN  ...       NaN       NaN       NaN\n",
            "111 1  0.000000  0.000000  0.000000  ...  0.500000  0.000000  0.000000\n",
            "111 2  0.000000  0.000000  0.000000  ...  0.000000  0.333333  0.666667\n",
            "\n",
            "[24 rows x 25 columns]]\n"
          ],
          "name": "stdout"
        }
      ]
    },
    {
      "cell_type": "markdown",
      "metadata": {
        "id": "k4GVWc0CVVKp"
      },
      "source": [
        "> Place any written answer here"
      ]
    },
    {
      "cell_type": "markdown",
      "metadata": {
        "id": "3a5cPeWEVceB"
      },
      "source": [
        "B. You may have noticed that some of the rows in these matrices are all zeros, so when normalized you end up with nan entries. This is because Ben Gamel and Dee Gordon didn't bat out of every state in 2018. Every state needs to be represented for our simulation to work though. To fix this problem, use the file MLBAVG.csv which contains the transition matrix for all plate appearances in the MLB in 2018. Load the MLB average transition matrix into a numpy array. Then edit your function for part 2.1 to replace any nan values in the Gordon and Gamel matrices with the MLB average value. (Note: Since the average is a probability matrix, youll want to replace these rows after you normalize your matrices. Essentially, replace any nan values in your matrices with the MLB average value.)"
      ]
    },
    {
      "cell_type": "code",
      "metadata": {
        "id": "UWb6-rj2Vi-g",
        "colab": {
          "base_uri": "https://localhost:8080/",
          "height": 1000
        },
        "outputId": "e34265f3-6116-4174-a88e-16368248a4dd"
      },
      "source": [
        "mlbavg = pd.read_csv('MLBAVG.csv')\n",
        "\n",
        "\n",
        "\n",
        "for i in range(tMatrices[0].shape[0]):\n",
        "  if tMatrices[0].iloc[i].isnull().values.any():\n",
        "    print('found NaN')\n",
        "    tMatrices[0].iloc[i] = mlbavg.iloc[i,1:26]\n",
        "  if tMatrices[1].iloc[i].isnull().values.any():\n",
        "    print('found NaN')\n",
        "    tMatrices[1].iloc[i] = mlbavg.iloc[i,1:26]\n",
        "print(tMatrices)"
      ],
      "execution_count": null,
      "outputs": [
        {
          "output_type": "stream",
          "text": [
            "found NaN\n",
            "found NaN\n",
            "found NaN\n",
            "found NaN\n",
            "[          000 0     000 1     000 2     001 0  ...  111 0  111 1  111 2         3\n",
            "000 0  0.004902  0.661765  0.000000  0.019608  ...    0.0    0.0  0.000  0.000000\n",
            "000 1  0.000000  0.000000  0.750000  0.000000  ...    0.0    0.0  0.000  0.000000\n",
            "000 2  0.000000  0.000000  0.000000  0.000000  ...    0.0    0.0  0.000  0.712500\n",
            "001 0  0.032751  0.209607  0.000000  0.008734  ...    0.0    0.0  0.000  0.000000\n",
            "001 1  0.000000  0.200000  0.400000  0.000000  ...    0.0    0.0  0.000  0.000000\n",
            "001 2  0.000000  0.000000  0.000000  0.000000  ...    0.0    0.0  0.000  0.666667\n",
            "010 0  0.090909  0.000000  0.000000  0.000000  ...    0.0    0.0  0.000  0.000000\n",
            "010 1  0.000000  0.000000  0.000000  0.000000  ...    0.0    0.0  0.000  0.000000\n",
            "010 2  0.000000  0.000000  0.000000  0.000000  ...    0.0    0.0  0.000  0.736842\n",
            "011 0  0.000000  0.000000  0.000000  0.000000  ...    0.0    0.0  0.000  0.000000\n",
            "011 1  0.000000  0.000000  0.000000  0.000000  ...    0.0    0.0  0.000  0.000000\n",
            "011 2  0.000000  0.000000  0.000000  0.000000  ...    0.0    0.0  0.000  0.500000\n",
            "100 0  0.000000  0.000000  0.000000  0.000000  ...    0.0    0.0  0.000  0.000000\n",
            "100 1  0.000000  0.027778  0.027778  0.000000  ...    0.0    0.0  0.000  0.083333\n",
            "100 2  0.000000  0.000000  0.000000  0.000000  ...    0.0    0.0  0.000  0.666667\n",
            "101 0  0.000000  0.000000  0.000000  0.000000  ...    0.0    0.0  0.000  0.000000\n",
            "101 1  0.000000  0.000000  0.000000  0.000000  ...    0.0    0.0  0.000  0.000000\n",
            "101 2  0.000000  0.000000  0.000000  0.000000  ...    0.0    0.0  0.000  1.000000\n",
            "110 0  0.000000  0.000000  0.000000  0.000000  ...    0.4    0.0  0.000  0.000000\n",
            "110 1  0.000000  0.000000  0.000000  0.000000  ...    0.0    0.0  0.000  0.222222\n",
            "110 2  0.000000  0.000000  0.000000  0.000000  ...    0.0    0.0  0.200  0.700000\n",
            "111 0  0.000000  0.000000  0.000000  0.000000  ...    0.0    0.0  0.000  0.000000\n",
            "111 1  0.000000  0.000000  0.000000  0.000000  ...    0.0    0.0  0.125  0.625000\n",
            "111 2  0.000000  0.000000  0.000000  0.000000  ...    0.0    0.0  0.000  0.833333\n",
            "\n",
            "[24 rows x 25 columns],           000 0     000 1     000 2  ...     111 1     111 2         3\n",
            "000 0  0.012195  0.573171  0.000000  ...  0.000000  0.000000  0.000000\n",
            "000 1  0.000000  0.000000  0.722222  ...  0.000000  0.000000  0.000000\n",
            "000 2  0.000000  0.000000  0.000000  ...  0.000000  0.000000  0.723404\n",
            "001 0  0.032751  0.209607  0.000000  ...  0.000000  0.000000  0.000000\n",
            "001 1  0.000000  0.000000  0.500000  ...  0.000000  0.000000  0.000000\n",
            "001 2  0.000000  0.000000  0.000000  ...  0.000000  0.000000  0.500000\n",
            "010 0  0.000000  0.000000  0.000000  ...  0.000000  0.000000  0.000000\n",
            "010 1  0.000000  0.000000  0.000000  ...  0.000000  0.000000  0.000000\n",
            "010 2  0.000000  0.000000  0.000000  ...  0.000000  0.000000  0.600000\n",
            "011 0  0.021944  0.001567  0.000000  ...  0.000000  0.000000  0.000000\n",
            "011 1  0.000000  0.000000  0.000000  ...  0.333333  0.000000  0.000000\n",
            "011 2  0.000000  0.000000  0.000000  ...  0.000000  0.333333  0.666667\n",
            "100 0  0.000000  0.000000  0.181818  ...  0.000000  0.000000  0.000000\n",
            "100 1  0.000000  0.000000  0.000000  ...  0.000000  0.000000  0.086957\n",
            "100 2  0.000000  0.000000  0.000000  ...  0.000000  0.000000  0.650000\n",
            "101 0  0.000000  0.000000  0.000000  ...  0.000000  0.000000  0.000000\n",
            "101 1  0.000000  0.000000  0.000000  ...  0.000000  0.000000  0.000000\n",
            "101 2  0.000000  0.000000  0.000000  ...  0.000000  0.166667  0.833333\n",
            "110 0  0.000000  0.000000  0.000000  ...  0.000000  0.000000  0.000000\n",
            "110 1  0.000000  0.000000  0.000000  ...  0.333333  0.000000  0.166667\n",
            "110 2  0.000000  0.000000  0.000000  ...  0.000000  0.000000  0.500000\n",
            "111 0  0.028529  0.001502  0.000000  ...  0.363363  0.000000  0.001502\n",
            "111 1  0.000000  0.000000  0.000000  ...  0.500000  0.000000  0.000000\n",
            "111 2  0.000000  0.000000  0.000000  ...  0.000000  0.333333  0.666667\n",
            "\n",
            "[24 rows x 25 columns]]\n"
          ],
          "name": "stdout"
        }
      ]
    },
    {
      "cell_type": "markdown",
      "metadata": {
        "id": "oMj6XY_fVmfi"
      },
      "source": [
        "C. Is using the MLB average to replace nan values the best solution? What are some potential problems with this idea? Can you think of a better way to replace nan values?"
      ]
    },
    {
      "cell_type": "markdown",
      "metadata": {
        "id": "85g4v0_CVofa"
      },
      "source": [
        ">**Answer:** Using the MLB average is not the best solution to NaN values. The problem arrises that neither player will conform perfectly to the MLB average so the imputed values we have chosen will be wrong by a degree for each player. \n",
        "\n",
        "> A better solution may be to look at past data for thee players to see if it can be filled from there or potentially using an algorithm lik K-Nearest-Neighbors to find a player in the MLB with a more similar connection to our player than the MLB average and use that players data."
      ]
    },
    {
      "cell_type": "markdown",
      "metadata": {
        "id": "WyvpQX5dVqfp"
      },
      "source": [
        "D. Now that we have transition matrices, we can start to think about simulating a sea- son. The file runs.csv contains a matrix where the $(i, j)^{th}$ entry gives the runs scored by moving from state $i$ to state $j$. Use this matrix to write a function called `batting.sim(lineup, total games=162)`. This function takes as a parameter the number of games to simulate. This defaults to 162 games because there are 162 games in the MLB regular season. It also takes as a parameter a lineup, which should be a list of nine transition matrices, one for each player in the lineup. Use these transition matrices to simulate all of the games. Some important things to note: there are nine innings in a game, and an inning has three outs. Each inning ends when the state $3$ is reached in a transition matrix. Each game ends after nine innings. The first player in the lineup leads off every game, so the batter number should reset to $1$ after each game. Also, since there are only nine batters, after the ninth hitter bats, we move back to the top of the lineup with batter $1$. Return the average runs scored per game by the lineup."
      ]
    },
    {
      "cell_type": "code",
      "metadata": {
        "id": "6xURNflVV9be",
        "colab": {
          "base_uri": "https://localhost:8080/",
          "height": 34
        },
        "outputId": "0c318fad-5f78-42ad-ea01-45f82685fae2"
      },
      "source": [
        "runs = pd.read_csv('runs.csv')\n",
        "runs.index = tGordonRows\n",
        "runs = runs.drop(runs.columns[0], axis = 1)\n",
        "\n",
        "lineup1p = pd.read_csv(\"dspan.csv\")\n",
        "lineup2p = pd.read_csv(\"jsegura.csv\")\n",
        "lineup3p = pd.read_csv(\"kseager.csv\")\n",
        "lineup4p = pd.read_csv(\"mhaniger.csv\")\n",
        "lineup5p = pd.read_csv(\"mzunino.csv\")\n",
        "lineup6p = pd.read_csv(\"ncruz.csv\")\n",
        "lineup7p = pd.read_csv(\"rcano.csv\")\n",
        "lineup8p = pd.read_csv(\"rhealy.csv\")\n",
        "\n",
        "lineup = [lineup1p, lineup2p, lineup3p, lineup4p, lineup5p, lineup6p, lineup7p, lineup8p]\n",
        "for i in range(len(lineup)):\n",
        "  lineup[i].index = tGordonRows\n",
        "  lineup[i] = lineup[i].drop(lineup[i].columns[0], axis = 1)\n",
        "\n",
        "import random as rand\n",
        "def battingsim(lineup, totalgames = 162):\n",
        "  sumRuns = 0\n",
        "  # Loop through all games in season\n",
        "  for i in range(totalgames):\n",
        "    # Through 9 innings\n",
        "    batter = 0 # resets each game\n",
        "    for i in range(9):\n",
        "      # Until 3 outs\n",
        "      state = '000 0'\n",
        "      while state != '3':\n",
        "        # Transition to new state based on probability\n",
        "        wgh = lineup[batter].loc[state,:]\n",
        "        newstate = rand.choices(population = tGordonCols, weights = wgh, k = 1)  \n",
        "        newstate = newstate[0]\n",
        "        if newstate == '3':\n",
        "          state = '3'\n",
        "        else:\n",
        "          sumRuns += runs[newstate].loc[state]\n",
        "          state = newstate\n",
        "        if batter == len(lineup)-1:\n",
        "            batter = 0\n",
        "        else:\n",
        "            batter += 1\n",
        "  return sumRuns/totalgames\n",
        "\n",
        "avgTest1 = battingsim(lineup)\n",
        "print('Average runs/game for season: ', avgTest1)"
      ],
      "execution_count": null,
      "outputs": [
        {
          "output_type": "stream",
          "text": [
            "Average runs/game for season:  6.567901234567901\n"
          ],
          "name": "stdout"
        }
      ]
    },
    {
      "cell_type": "markdown",
      "metadata": {
        "id": "tCiVlhMrV9C7"
      },
      "source": [
        "> Place any written answer here"
      ]
    },
    {
      "cell_type": "markdown",
      "metadata": {
        "id": "exxBDm4zWDWc"
      },
      "source": [
        "E. Write a function called `compare(lineup1, lineup2, N=100)` that compares two lineups by simulating $N$ seasons for each of them and returning the average result of the $N$ simulations. Return a tuple with two numbers, the first being the average result of $N$ simulations of the first lineup, the second being the average result of $N$ simulations of the second lineup."
      ]
    },
    {
      "cell_type": "code",
      "metadata": {
        "id": "pxcpziL9WJU-"
      },
      "source": [
        "# Compare lineups\n",
        "def compare(lineup1, lineup2, N=100):\n",
        "  lineup1AvSum = 0\n",
        "  lineup2AvSum = 0\n",
        "  \n",
        "  for i in range(N):\n",
        "    if i == N/2:\n",
        "      print('\\n\\nHalfway done!')\n",
        "    x = battingsim(lineup1)\n",
        "    y = battingsim(lineup2)\n",
        "    lineup1AvSum += x\n",
        "    lineup2AvSum += y\n",
        "  \n",
        "  avgNlineup1 = lineup1AvSum/N\n",
        "  avgNlineup2 = lineup2AvSum/N\n",
        "  return [avgNlineup1, avgNlineup2]"
      ],
      "execution_count": null,
      "outputs": []
    },
    {
      "cell_type": "markdown",
      "metadata": {
        "id": "UCp-zMuqWJyV"
      },
      "source": [
        "> Place any written answer here"
      ]
    },
    {
      "cell_type": "markdown",
      "metadata": {
        "id": "e1H0g4tLWLx3"
      },
      "source": [
        "F. Now we are ready to determine if the Mariners were better off with Gordon in the lineup or Gamel. I've provided transition matrices for 8 other 2018 Mariners: Mike Zunino, Ryon Healy, Robinson Cano, Jean Segura, Kyle Seager, Denard Span, Mitch Haniger, and Nelson Cruz. Compare the lineup [Haniger, Segura, Cano, Cruz, Seager, Healy, Span, Zunino, Gordon], which was a typical lineup order for Gordon, with the lineup [Haniger, Segura, Cano, Cruz, Span, Seager, Gamel, Zunino, Healy], which was a typical order for Gamel. Write a function that runs your `compare()` function on these two lineups. If the first lineup scores more runs, return Gordon and if the second scores more, return Gamel. The result should be Gamel. *Gamel was a much better hitter than Gordon in 2018. Why the Mariners ever played Dee Gordon in the outfield when Gamel was on the team is a mystery to me, but it could explain why they haven't been to the playoffs since 2001.*"
      ]
    },
    {
      "cell_type": "code",
      "metadata": {
        "id": "xXZW_2D47iU3",
        "colab": {
          "base_uri": "https://localhost:8080/",
          "height": 187
        },
        "outputId": "2f1d0f91-60dd-41b8-d373-2869b5d27ea3"
      },
      "source": [
        "lineup1p = pd.read_csv(\"dspan.csv\")\n",
        "lineup2p = pd.read_csv(\"jsegura.csv\")\n",
        "lineup3p = pd.read_csv(\"kseager.csv\")\n",
        "lineup4p = pd.read_csv(\"mhaniger.csv\")\n",
        "lineup5p = pd.read_csv(\"mzunino.csv\")\n",
        "lineup6p = pd.read_csv(\"ncruz.csv\")\n",
        "lineup7p = pd.read_csv(\"rcano.csv\")\n",
        "lineup8p = pd.read_csv(\"rhealy.csv\")\n",
        "if tMatrices[0].shape[1] == 25:\n",
        "  tMatrices[0].insert(0, 'del', ([0]*tMatrices[0].shape[0]))\n",
        "elif tMatrices[0].shape[1] == 26:\n",
        "  print('already added del row to gordon')\n",
        "if tMatrices[1].shape[1] == 25:\n",
        "  tMatrices[1].insert(0, 'del', ([0]*tMatrices[1].shape[0]))\n",
        "elif tMatrices[1].shape[1] == 26:\n",
        "  print('already added del row to gamel')\n",
        "\n",
        "# Gordon\n",
        "lineup1 = [lineup4p, lineup2p, lineup7p, lineup6p, lineup3p, lineup8p, lineup1p, lineup8p, tMatrices[0]]\n",
        "# Gamel\n",
        "lineup2 = [lineup4p, lineup2p, lineup7p, lineup6p, lineup1p, lineup3p, tMatrices[1], lineup5p, lineup8p]\n",
        "\n",
        "for i in range(len(lineup1)):\n",
        "  lineup1[i].index = tGordonRows\n",
        "  lineup1[i] = lineup1[i].drop(lineup1[i].columns[0], axis = 1)\n",
        "  lineup2[i].index = tGordonRows\n",
        "  lineup2[i] = lineup2[i].drop(lineup2[i].columns[0], axis = 1)\n",
        "\n",
        "compResult = compare(lineup1, lineup2)\n",
        "print('\\n\\nComparison of Gordon to Gamel\\nGordon: ', compResult[0], '\\nGamel: ', compResult[1])\n"
      ],
      "execution_count": null,
      "outputs": [
        {
          "output_type": "stream",
          "text": [
            "already added del row to gordon\n",
            "already added del row to gamel\n",
            "\n",
            "\n",
            "Halfway done!\n",
            "\n",
            "\n",
            "Comparison of Gordon to Gamel\n",
            "Gordon:  5.5384567901234565 \n",
            "Gamel:  5.865617283950618\n"
          ],
          "name": "stdout"
        }
      ]
    },
    {
      "cell_type": "markdown",
      "metadata": {
        "id": "0_MY0RDpWamI"
      },
      "source": [
        "##Problem 5 (Physics 513 students) \n",
        "\n",
        "There are several simple models of national economic dynamics. We present one formulated in discrete time, where the time between periods is usually taken as quarters of full years. At each time period there are four variables that define the model:\n",
        "\n",
        "*   $Y[k]$ = National Income or National Product\n",
        "*   $C[k]$ = Consumption\n",
        "*   $I[k]$ = Investment\n",
        "*   $G[k]$ = Government Expenditure\n",
        "\n",
        "The variable $Y$ is defined to be the National Income: the total amount earned during a period by all individuals in the economy. Alternatively, but equivalently, $Y$ can be defined as the National Product: the total value of goods and services produced in the economy during the period. Consumption $C$ is the total amount spent by individuals for goods and services. It is the total of every individual’s expenditure. The Investment $I$ is the total amount invested in the period. Finally, $G$ is the total amount spent by government during the period, which is equal to the government’s current revenue. The basic national accounting equation is\n",
        "\n",
        "$Y[k] = C[k] + I[k] + G[k]$\n",
        "\n",
        "From an income viewpoint, the equation states that total individual income must be divided among consumption of goods and services, investment, or payments to the government. Alternatively, from a national product viewpoint, the total aggregate of goods and ser- vices produced must be divided among individual consumption, investment, or government consumption.\n",
        "  \n",
        "In addition to this basic definitional equation, a simplified Keynesian model of the econ- omy promoted by Samuelson asserts that consumption is proportional to the national income of the preceding year:\n",
        "\n",
        "$C[k + 1] = mY[k]$\n",
        "\n",
        "for some $m: 0 < m < 1$. The number $m$ is referred to as the marginal propensity to consume. This equation assumes that on the average individuals tend to consume a fixed portion of their income from the immediately previous period. Also, he suggested that investment is proportional to the increase in consumer spending of that year over the preceding year:\n",
        "\n",
        "\n",
        "$I[k + 1] = μ(C[k + 1] − C[k])$,\n",
        "\n",
        "where $μ ∈ \\mathbb{R}$."
      ]
    },
    {
      "cell_type": "markdown",
      "metadata": {
        "id": "FcLoY06CXNTQ"
      },
      "source": [
        "A. Put these expressions together to build a state space model of the economy. What is the minimum order for such a model? What is the input to the model? What are the state variables? What is the output?"
      ]
    },
    {
      "cell_type": "markdown",
      "metadata": {
        "id": "x68EFKjTXReK"
      },
      "source": [
        "> Place your written answer here"
      ]
    },
    {
      "cell_type": "markdown",
      "metadata": {
        "id": "ScHaIPYXXRxT"
      },
      "source": [
        "B. What are the conditions on $m$ and $μ$ for the model to be stable?"
      ]
    },
    {
      "cell_type": "markdown",
      "metadata": {
        "id": "oKrom2ejXUh5"
      },
      "source": [
        "> Place your written answer here"
      ]
    },
    {
      "cell_type": "markdown",
      "metadata": {
        "id": "hobEWogOXUwJ"
      },
      "source": [
        "C. Let $m = 0.25$ and $μ = 0.5$. If $G[k] ≡ 10$, what are the values of $C$, $I$, and $Y$ for the system to be in equilibrium? If you start from this equilibrium, and then increase government spending by 10%, how does the system respond? Simulate it and plot the response of each variable in the system. Under what conditions does this model predict that government spending is valuable?"
      ]
    },
    {
      "cell_type": "code",
      "metadata": {
        "id": "mAUvGsXvXn7f"
      },
      "source": [
        ""
      ],
      "execution_count": null,
      "outputs": []
    },
    {
      "cell_type": "code",
      "metadata": {
        "id": "CkrtFjBDXiVt"
      },
      "source": [
        "# Put your code here"
      ],
      "execution_count": null,
      "outputs": []
    },
    {
      "cell_type": "markdown",
      "metadata": {
        "id": "-iQO0hSBXlR1"
      },
      "source": [
        "> Place your written answer here"
      ]
    },
    {
      "cell_type": "markdown",
      "metadata": {
        "id": "KVLN0Ql_XosR"
      },
      "source": [
        "---"
      ]
    }
  ]
}